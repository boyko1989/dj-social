{
 "cells": [
  {
   "cell_type": "code",
   "execution_count": 1,
   "id": "7b0d323f",
   "metadata": {},
   "outputs": [],
   "source": [
    "from django.db import models\n",
    "from blog.models import Post"
   ]
  },
  {
   "cell_type": "code",
   "execution_count": 2,
   "id": "0337baf0",
   "metadata": {},
   "outputs": [],
   "source": [
    "post_test_title = Post.objects.create(title='Привет, мир!!')\n",
    "post_test_title.title = 'super'\n",
    "post_test_title.save()"
   ]
  },
  {
   "cell_type": "code",
   "execution_count": 3,
   "id": "6f9b0c71",
   "metadata": {},
   "outputs": [
    {
     "data": {
      "text/plain": [
       "<QuerySet ['super']>"
      ]
     },
     "execution_count": 3,
     "metadata": {},
     "output_type": "execute_result"
    }
   ],
   "source": [
    "Post.objects.values_list('title', flat=True)"
   ]
  },
  {
   "cell_type": "code",
   "execution_count": null,
   "id": "98473e7b",
   "metadata": {},
   "outputs": [],
   "source": []
  }
 ],
 "metadata": {
  "kernelspec": {
   "display_name": "Django Shell-Plus",
   "language": "python",
   "name": "django_extensions"
  },
  "language_info": {
   "codemirror_mode": {
    "name": "ipython",
    "version": 3
   },
   "file_extension": ".py",
   "mimetype": "text/x-python",
   "name": "python",
   "nbconvert_exporter": "python",
   "pygments_lexer": "ipython3",
   "version": "3.10.6"
  }
 },
 "nbformat": 4,
 "nbformat_minor": 5
}
